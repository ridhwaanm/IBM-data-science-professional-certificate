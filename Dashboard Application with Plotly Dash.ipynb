{
 "cells": [
  {
   "cell_type": "markdown",
   "id": "e94e982e-ecec-499f-93b8-efdc324ac160",
   "metadata": {},
   "source": [
    "# Build a Dashboard Application with Plotly Dash\n",
    "\n",
    "In this lab, you will be building a Plotly Dash application for users to perform interactive visual analytics on SpaceX launch data in real-time.\n",
    "\n",
    "This dashboard application contains input components such as a dropdown list and a range slider to interact with a pie chart and a scatter point chart. You will be guided to build this dashboard application via the following tasks:\n",
    "\n",
    "*   TASK 1: Add a Launch Site Drop-down Input Component\n",
    "*    TASK 2: Add a callback function to render __success-pie-chart__ based on selected site dropdown\n",
    "*    TASK 3: Add a Range Slider to Select Payload\n",
    "*    TASK 4: Add a callback function to render the __success-payload-scatter-chart__ scatter plot"
   ]
  },
  {
   "cell_type": "markdown",
   "id": "d540c1a8-4273-4654-903d-9010a360e593",
   "metadata": {},
   "source": [
    "After visual analysis using the dashboard, you should be able to obtain some insights to answer the following five questions:\n",
    "\n",
    "*    Which site has the largest successful launches?\n",
    "*    Which site has the highest launch success rate?\n",
    "*    Which payload range(s) has the highest launch success rate?\n",
    "*    Which payload range(s) has the lowest launch success rate?\n",
    "*    Which F9 Booster version (__v1.0, v1.1, FT, B4, B5,__ etc.) has the highest\n",
    "    launch success rate?"
   ]
  },
  {
   "cell_type": "markdown",
   "id": "d2e35849-e4ab-4a4a-a286-21d8e187fde6",
   "metadata": {},
   "source": [
    "## Downloading and Prepping Data\n",
    "\n",
    "If you are using local jupyter lab, then  add these lines in your code:"
   ]
  },
  {
   "cell_type": "code",
   "execution_count": 1,
   "id": "9d97325e-28cb-4972-9320-8273f4208d4e",
   "metadata": {},
   "outputs": [
    {
     "data": {
      "text/plain": [
       "'\\n!pip install dash\\n!pip install dash==1.19.0\\n!pip install jupyter_dash\\n!pip install --upgrade plotly\\n!pip install jupyter-dash\\n'"
      ]
     },
     "execution_count": 1,
     "metadata": {},
     "output_type": "execute_result"
    }
   ],
   "source": [
    "\"\"\"\n",
    "!pip install dash\n",
    "!pip install dash==1.19.0\n",
    "!pip install jupyter_dash\n",
    "!pip install --upgrade plotly\n",
    "!pip install jupyter-dash\n",
    "\"\"\""
   ]
  },
  {
   "cell_type": "markdown",
   "id": "d06b9a6c-8287-4751-b584-9290f67ea378",
   "metadata": {},
   "source": [
    "## Read the Data\n",
    "\n",
    "Let's start with\n",
    "\n",
    "* Importing necessary libraries\n",
    "* Reading the data"
   ]
  },
  {
   "cell_type": "code",
   "execution_count": 2,
   "id": "b6dcfcfe-8c8f-47cd-966f-6f78748ae526",
   "metadata": {},
   "outputs": [
    {
     "data": {
      "text/html": [
       "<div>\n",
       "<style scoped>\n",
       "    .dataframe tbody tr th:only-of-type {\n",
       "        vertical-align: middle;\n",
       "    }\n",
       "\n",
       "    .dataframe tbody tr th {\n",
       "        vertical-align: top;\n",
       "    }\n",
       "\n",
       "    .dataframe thead th {\n",
       "        text-align: right;\n",
       "    }\n",
       "</style>\n",
       "<table border=\"1\" class=\"dataframe\">\n",
       "  <thead>\n",
       "    <tr style=\"text-align: right;\">\n",
       "      <th></th>\n",
       "      <th>Unnamed: 0</th>\n",
       "      <th>Flight Number</th>\n",
       "      <th>Launch Site</th>\n",
       "      <th>class</th>\n",
       "      <th>Payload Mass (kg)</th>\n",
       "      <th>Booster Version</th>\n",
       "      <th>Booster Version Category</th>\n",
       "    </tr>\n",
       "  </thead>\n",
       "  <tbody>\n",
       "    <tr>\n",
       "      <th>0</th>\n",
       "      <td>0</td>\n",
       "      <td>1</td>\n",
       "      <td>CCAFS LC-40</td>\n",
       "      <td>0</td>\n",
       "      <td>0.0</td>\n",
       "      <td>F9 v1.0  B0003</td>\n",
       "      <td>v1.0</td>\n",
       "    </tr>\n",
       "    <tr>\n",
       "      <th>1</th>\n",
       "      <td>1</td>\n",
       "      <td>2</td>\n",
       "      <td>CCAFS LC-40</td>\n",
       "      <td>0</td>\n",
       "      <td>0.0</td>\n",
       "      <td>F9 v1.0  B0004</td>\n",
       "      <td>v1.0</td>\n",
       "    </tr>\n",
       "    <tr>\n",
       "      <th>2</th>\n",
       "      <td>2</td>\n",
       "      <td>3</td>\n",
       "      <td>CCAFS LC-40</td>\n",
       "      <td>0</td>\n",
       "      <td>525.0</td>\n",
       "      <td>F9 v1.0  B0005</td>\n",
       "      <td>v1.0</td>\n",
       "    </tr>\n",
       "    <tr>\n",
       "      <th>3</th>\n",
       "      <td>3</td>\n",
       "      <td>4</td>\n",
       "      <td>CCAFS LC-40</td>\n",
       "      <td>0</td>\n",
       "      <td>500.0</td>\n",
       "      <td>F9 v1.0  B0006</td>\n",
       "      <td>v1.0</td>\n",
       "    </tr>\n",
       "    <tr>\n",
       "      <th>4</th>\n",
       "      <td>4</td>\n",
       "      <td>5</td>\n",
       "      <td>CCAFS LC-40</td>\n",
       "      <td>0</td>\n",
       "      <td>677.0</td>\n",
       "      <td>F9 v1.0  B0007</td>\n",
       "      <td>v1.0</td>\n",
       "    </tr>\n",
       "  </tbody>\n",
       "</table>\n",
       "</div>"
      ],
      "text/plain": [
       "   Unnamed: 0  Flight Number  Launch Site  class  Payload Mass (kg)  \\\n",
       "0           0              1  CCAFS LC-40      0                0.0   \n",
       "1           1              2  CCAFS LC-40      0                0.0   \n",
       "2           2              3  CCAFS LC-40      0              525.0   \n",
       "3           3              4  CCAFS LC-40      0              500.0   \n",
       "4           4              5  CCAFS LC-40      0              677.0   \n",
       "\n",
       "  Booster Version Booster Version Category  \n",
       "0  F9 v1.0  B0003                     v1.0  \n",
       "1  F9 v1.0  B0004                     v1.0  \n",
       "2  F9 v1.0  B0005                     v1.0  \n",
       "3  F9 v1.0  B0006                     v1.0  \n",
       "4  F9 v1.0  B0007                     v1.0  "
      ]
     },
     "execution_count": 2,
     "metadata": {},
     "output_type": "execute_result"
    }
   ],
   "source": [
    "# Import required libraries\n",
    "import pandas as pd\n",
    "import plotly.graph_objects as go\n",
    "import dash\n",
    "from jupyter_dash import JupyterDash\n",
    "import dash_html_components as html\n",
    "import dash_core_components as dcc\n",
    "import plotly.express as px\n",
    "from dash.dependencies import Input, Output\n",
    "\n",
    "# Read the SpaceX data into pandas dataframe\n",
    "spacex_df=pd.read_csv(\"spacex_launch_dash.csv\")\n",
    "\n",
    "spacex_df.head()"
   ]
  },
  {
   "cell_type": "code",
   "execution_count": 3,
   "id": "1489f6b4-1296-4563-8e9d-bd432e7c73cf",
   "metadata": {},
   "outputs": [
    {
     "name": "stdout",
     "output_type": "stream",
     "text": [
      "Maximum payload mass  9600.0\n",
      "Mainimum payload mass 0.0\n"
     ]
    }
   ],
   "source": [
    "max_payload=spacex_df[\"Payload Mass (kg)\"].max()\n",
    "min_payload=spacex_df[\"Payload Mass (kg)\"].min()\n",
    "\n",
    "print(\"Maximum payload mass \",max_payload)\n",
    "print(\"Mainimum payload mass\",min_payload)"
   ]
  },
  {
   "cell_type": "markdown",
   "id": "a11bafb5-d770-4579-84f2-9de7d0fb61bc",
   "metadata": {},
   "source": [
    "## TASK 1: Add a Launch Site Drop-down Input Component\n",
    "\n",
    "We have four different launch sites and we would like to first see which one has the largest success count. Then, we would like to select one specific site and check its detailed success rate (class=0 vs. class=1).\n",
    "\n",
    "As such, we will need a dropdown menu to let us select different launch sites.\n",
    "\n",
    "Find and complete a commented __dcc.Dropdown(id='site-dropdown',...)__ input with following attributes:\n",
    "\n",
    "*    __id__ attribute with value __site-dropdown__\n",
    "*    __options__ attribute is a list of dict-like option objects (with label and value attributes). You can set the label and value all to be the launch  site names in the spacex_df and you need to include the default All option. e.g.,\n",
    "\n",
    "  `options=[{'label': 'All Sites', 'value': 'ALL'},{'label': 'site1', 'value': 'site1'}, ...]`\n",
    "  \n",
    "*    __value__ attribute with default dropdown value to be ALL meaning all sites are selected\n",
    "*    __placeholder__ attribute to show a text description about this input area, such as Select a Launch Site here\n",
    "*    __searchable__ attribute to be True so we can enter keywords to search launch sites"
   ]
  },
  {
   "cell_type": "code",
   "execution_count": 4,
   "id": "d8067550-fad5-467e-9c17-4987d14dc704",
   "metadata": {},
   "outputs": [],
   "source": [
    "# Create a dash application\n",
    "\n",
    "#app = dash.Dash(__name__)\n",
    "#This line used for JupyterLab\n",
    "app= JupyterDash(__name__)\n",
    "\n",
    "\n",
    "# Build dash app layout\n",
    "app.layout = html.Div(children=[html.H1('SpaceX Launch Records Dashboard',\n",
    "                                style={'textAlign': 'center', 'color': '#503D36', 'font-size': 30}),\n",
    "                                \n",
    "                                # TASK 1: Add a dropdown list to enable Launch Site selection\n",
    "                                # The default select value is for ALL sites\n",
    "                                # dcc.Dropdown(id='site-dropdown',...)\n",
    "                                dcc.Dropdown(id='site-dropdown',\n",
    "                                            options=[\n",
    "                                                {'label': 'All Sites', 'value': 'ALL'},\n",
    "                                                {'label': 'CCAFS LC-40', 'value': 'CCAFS LC-40'},\n",
    "                                                {'label': 'VAFB SLC-4E', 'value': 'VAFB SLC-4E'},\n",
    "                                                {'label': 'KSC LC-39A', 'value': 'KSC LC-39A'},\n",
    "                                                {'label': 'CCAFS SLC-40', 'value': 'CCAFS SLC-40'}\n",
    "                                            ],\n",
    "                                             value= 'ALL',\n",
    "                                             placeholder='Select a Launch Site here',\n",
    "                                             searchable=True\n",
    "                                             # style={'width':'80%','padding':'3px','font-size':'20px','text-align-last':'center'}\n",
    "                                            ),\n",
    "                                html.Br(),\n",
    "                                \n",
    "                                # TASK 2: Add a pie chart to show the total successful launches count for all sites\n",
    "                                # If a specific launch site was selected, show the Success vs. Failed counts for the site\n",
    "                                html.Div(dcc.Graph(id='success-pie-chart')),\n",
    "                                html.Br(),\n",
    "                                \n",
    "                                \n",
    "                                # TASK 3: Add a slider to select payload range\n",
    "                                #dcc.RangeSlider(id='payload-slider',...)\n",
    "                                html.P(\"Payload range (Kg):\"),\n",
    "                                dcc.RangeSlider(id='payload-slider',\n",
    "                                               min=0, max=10000, step=1000,\n",
    "                                               #marks={0: '0', 100 : '100'},\n",
    "                                               value=[min_payload, max_payload]),\n",
    "                                \n",
    "                                \n",
    "                                # TASK 4: Add a scatter chart to show the correlation between payload and launch success\n",
    "                                html.Div(dcc.Graph(id='success-payload-scatter-chart'))\n",
    "\n",
    "                                ])"
   ]
  },
  {
   "cell_type": "markdown",
   "id": "ea0426fd-1bb8-4b2e-b20d-d32f40e79eb6",
   "metadata": {},
   "source": [
    "## TASK 2: Add a callback function to render success-pie-chart based on selected site dropdown\n",
    "\n",
    "The general idea of this callback function is to get the selected launch site from site-dropdown and render a pie chart visualizing launch success counts.\n",
    "\n",
    "Dash callback function is a type of Python function which will be automatically called by Dash whenever receiving an input component updates, such as a click or dropdown selecting event."
   ]
  },
  {
   "cell_type": "markdown",
   "id": "ca3baed7-8832-4967-b370-00ca448fbed3",
   "metadata": {},
   "source": [
    "Let's add a callback function in __spacex_dash_app.py__ including the following application logic:\n",
    "\n",
    "*    Input is set to be the __site-dropdown__ dropdown, i.e., __Input(component_id='site-dropdown', component_property='value')__\n",
    "*    Output to be the graph with id __success-pie-chart__, i.e., __Output(component_id='success-pie-chart', component_property='figure')__\n",
    "*    A __If-Else__ statement to check if ALL sites were selected or just a specific launch site was selected\n",
    "\n",
    "*    If ALL sites are selected, we will use all rows in the dataframe spacex_df to render and return a pie chart graph to show the total success launches (i.e., the total count of class column)\n",
    "*    If a specific launch site is selected, you need to filter the dataframe spacex_df first in order to include the only data for the selected site. Then, render and return a pie chart graph to show the success (__class=1__) count and failed (__class=0__) count for the selected site."
   ]
  },
  {
   "cell_type": "markdown",
   "id": "234b54cf-799f-4c1f-a7be-3a6156fda26c",
   "metadata": {},
   "source": [
    "## TASK 3: Add a Range Slider to Select Payload\n",
    "\n",
    "Next, we want to find if variable payload is correlated to mission outcome. From a dashboard point of view, we want to be able to easily select different payload range and see if we can identify some visual patterns.\n",
    "\n",
    "Find and complete a commented __dcc.RangeSlider(id='payload-slider',...)__ input with the following attribute:\n",
    "\n",
    "*    __id__ to be __payload-slider__\n",
    "*    __min__ indicating the slider starting point, we set its value to be 0 (Kg)\n",
    "*    __max__ indicating the slider ending point to, we set its value to be 10000 (Kg)\n",
    "*    __step__ indicating the slider interval on the slider, we set its value to be 1000 (Kg)\n",
    "*    __value__ indicating the current selected range, we could set it to be __min_payload__ and __max_payload__"
   ]
  },
  {
   "cell_type": "code",
   "execution_count": 5,
   "id": "97282bba-a568-49c3-bd88-9520ddd29eb2",
   "metadata": {},
   "outputs": [],
   "source": [
    "# TASK 2:\n",
    "# Add a callback function for `site-dropdown` as input, `success-pie-chart` as output\n",
    "@app.callback(Output(component_id='success-pie-chart', component_property='figure'),\n",
    "              Input(component_id='site-dropdown', component_property='value'))\n",
    "\n",
    "def get_pie_chart(entered_site):\n",
    "    filtered_df = spacex_df\n",
    "    \n",
    "    if entered_site == 'ALL':\n",
    "        fig = px.pie(filtered_df, values='class', names='Launch Site',\n",
    "                    title='Total Success Launches By Site')\n",
    "        return fig\n",
    "    \n",
    "    else:\n",
    "        # return the outcomes piechart for a selected site\n",
    "        filtered_df=spacex_df[spacex_df['Launch Site']== entered_site]\n",
    "        filtered_df=filtered_df.groupby(['Launch Site','class']).size().reset_index(name='class count')\n",
    "        fig=px.pie(filtered_df,values='class count',names='class',title=f\"Total Success Launches for site {entered_site}\")\n",
    "        return fig"
   ]
  },
  {
   "cell_type": "markdown",
   "id": "d9b92735-6bae-4931-a667-7df459d2358c",
   "metadata": {},
   "source": [
    "## TASK 4: Add a callback function to render the __success-payload-scatter-chart__ scatter plot\n",
    "\n",
    "Next, we want to plot a scatter plot with the x axis to be the payload and the y axis to be the launch outcome (i.e., __class__ column). As such, we can visually observe how payload may be correlated with mission outcomes for selected site(s).\n",
    "\n",
    "In addition, we want to color-label the Booster version on each scatter point so that we may observe mission outcomes with different boosters.\n",
    "\n",
    "Now, let's add a call function including the following application logic:\n",
    "\n",
    "*    Input to be __[Input(component_id='site-dropdown', component_property='value'), Input(component_id=\"payload-slider\", component_property=\"value\")]__ Note that we have two input components, one to receive selected launch site and another to receive selected payload range\n",
    "*    Output to be __Output(component_id='success-payload-scatter-chart', component_property='figure')__\n",
    "*    A __If-Else__ statement to check if ALL sites were selected or just a specific launch site was selected\n",
    "*    If ALL sites are selected, render a scatter plot to display all values for variable __Payload Mass (kg)__ and variable __class__.\n",
    "\n",
    "In addition, the point color needs to be set to the booster version i.e., __color=\"Booster Version Category\"__\n",
    "\n",
    "*    If a specific launch site is selected, you need to filter the __spacex_df__ first, and render a scatter chart to show values __Payload Mass (kg)__ and __class__ for the selected site, and color-label the point using __Boosster Version Category__ likewise."
   ]
  },
  {
   "cell_type": "code",
   "execution_count": 6,
   "id": "8a2cd04d-0bc6-4143-b96b-0b46ad3fef5f",
   "metadata": {},
   "outputs": [],
   "source": [
    "# TASK 4:\n",
    "# Add a callback function for `site-dropdown` and `payload-slider` as inputs, `success-payload-scatter-chart` as output\n",
    "@app.callback(Output(component_id='success-payload-scatter-chart',component_property='figure'),\n",
    "                [Input(component_id='site-dropdown',component_property='value'),\n",
    "                Input(component_id='payload-slider',component_property='value')])\n",
    "\n",
    "def scatter(entered_site,payload):\n",
    "    filtered_df = spacex_df[spacex_df['Payload Mass (kg)'].between(payload[0],payload[1])]\n",
    "    # thought reusing filtered_df may cause issues, but tried it out of curiosity and it seems to be working fine\n",
    "    \n",
    "    if entered_site=='ALL':\n",
    "        fig=px.scatter(filtered_df,x='Payload Mass (kg)',y='class',color='Booster Version Category',\n",
    "                       title='Success count on Payload mass for all sites')\n",
    "        return fig\n",
    "    \n",
    "    else:\n",
    "        fig=px.scatter(filtered_df[filtered_df['Launch Site']==entered_site],x='Payload Mass (kg)', y='class',color='Booster Version Category',\n",
    "                       title=f\"Success count on Payload mass for site {entered_site}\")\n",
    "        return fig\n",
    "\n",
    "    \n",
    "# Run the app\n",
    "if __name__ == '__main__':\n",
    "    # Run app and display result inline in the notebook\n",
    "    #app.run_server(mode='inline')\n",
    "    \n",
    "    #For JupyterLab\n",
    "    app.run_server(mode='jupyterlab', port = 8090, dev_tools_ui=True, debug=True,dev_tools_hot_reload =True, threaded=True)"
   ]
  },
  {
   "cell_type": "markdown",
   "id": "62377f7a-56de-4f1f-ba75-347291cb9833",
   "metadata": {},
   "source": [
    "Later in the browser address bar use this\n",
    "\n",
    "http://localhost:8090"
   ]
  },
  {
   "cell_type": "markdown",
   "id": "28d1d62c-36dc-45df-ab24-8c00cda0e49b",
   "metadata": {},
   "source": [
    "### Finding Insights Visually\n",
    "\n",
    "Now with the dashboard completed, you should be able to use it to analyze SpaceX launch data, and answer the following questions:\n",
    "\n",
    "*    Which site has the largest successful launches?\n",
    "*    Which site has the highest launch success rate?\n",
    "*    Which payload range(s) has the highest launch success rate?\n",
    "*    Which payload range(s) has the lowest launch success rate?\n",
    "*    Which F9 Booster version (v1.0, v1.1, FT, B4, B5, etc.) has the highest launch success rate?"
   ]
  },
  {
   "cell_type": "markdown",
   "id": "d5cca5f5-a7ee-4ce9-b436-e9b4c8057d35",
   "metadata": {},
   "source": [
    "                                                        © IBM Corporation 2021. All rights reserved."
   ]
  }
 ],
 "metadata": {
  "kernelspec": {
   "display_name": "Python 3 (ipykernel)",
   "language": "python",
   "name": "python3"
  },
  "language_info": {
   "codemirror_mode": {
    "name": "ipython",
    "version": 3
   },
   "file_extension": ".py",
   "mimetype": "text/x-python",
   "name": "python",
   "nbconvert_exporter": "python",
   "pygments_lexer": "ipython3",
   "version": "3.9.12"
  }
 },
 "nbformat": 4,
 "nbformat_minor": 5
}
